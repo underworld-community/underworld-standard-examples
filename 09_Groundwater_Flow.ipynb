{
 "cells": [
  {
   "cell_type": "markdown",
   "metadata": {},
   "source": [
    "# 1D Darcy Flow (Groundwater) Solution and Benchmark\n",
    "\n",
    "![title](./images/1_13_PressureSolution.png)"
   ]
  },
  {
   "cell_type": "code",
   "execution_count": 1,
   "metadata": {},
   "outputs": [],
   "source": [
    "import underworld as uw\n",
    "import glucifer\n",
    "import numpy\n",
    "import matplotlib.pyplot as plt\n",
    "\n",
    "uw.matplotlib_inline()"
   ]
  },
  {
   "cell_type": "markdown",
   "metadata": {},
   "source": [
    "This notebook demonstrates the use of the ``uw.systems.SteadyStateDarcyFlow`` class, which solves for darcy flow (e.g. groundwater flow):\n",
    "\n",
    "$\\nabla q = 0$\n",
    "\n",
    "$q = \\kappa \\left( -\\nabla p + S \\right)$ \n",
    "\n",
    "where $q$ is the flow velocity, $p$ is the fluid pressure head, $\\kappa$ hydraulic diffusivity and $S$ is a hydraulic gradient source. $S$ is usually a gravitational term, for example $S = \\rho g$, where $\\rho$ is fluid density and $g$ is the  gravitational accelleration vector.\n",
    "\n",
    "We will set up a simple example of flow through two  of strongly contrasting $\\kappa$ and compare the soultion to a 1D benchmark."
   ]
  },
  {
   "cell_type": "markdown",
   "metadata": {},
   "source": [
    "*Set up mesh and fields*\n",
    "\n",
    "**Note:** The velocity solution is extremely sensitive to the pressure gradient. A higher order shape function (Q2) may result in a more accurate solution of the pressure field, in the case of material variation within a cell, but the velocity would then be linearly variable within that cell. It is therefore best to use a linear shape function (Q1) and asign just one material per cell."
   ]
  },
  {
   "cell_type": "code",
   "execution_count": 2,
   "metadata": {},
   "outputs": [],
   "source": [
    "elementType = \"Q1\"\n",
    "resX = 16\n",
    "resY = 16\n",
    "mesh = uw.mesh.FeMesh_Cartesian( elementType = (elementType), \n",
    "                                 elementRes  = (resX, resY), \n",
    "                                 minCoord    = (-1., -1.), \n",
    "                                 maxCoord    = (0., 0.)) \n",
    "\n",
    "gwPressureField    = mesh.add_variable( nodeDofCount=1 )\n",
    "hydraulicDiffusivityField    = mesh.add_variable( nodeDofCount=1 )\n",
    "velocityField = mesh.add_variable(nodeDofCount=2)"
   ]
  },
  {
   "cell_type": "markdown",
   "metadata": {},
   "source": [
    "*Set up the types of boundary conditions*\n",
    "\n",
    "**Note:** The darcy-flow solver does also work for a lower free-slip boundary condition, but only if a strong horizontal flow component exists, such as arises when there is topographic variation. "
   ]
  },
  {
   "cell_type": "code",
   "execution_count": 3,
   "metadata": {},
   "outputs": [],
   "source": [
    "iWalls     = mesh.specialSets[\"MinI_VertexSet\"] + mesh.specialSets[\"MaxI_VertexSet\"]\n",
    "jWalls     = mesh.specialSets[\"MinJ_VertexSet\"] + mesh.specialSets[\"MaxJ_VertexSet\"]\n",
    "topWall    = mesh.specialSets[\"MaxJ_VertexSet\"]\n",
    "bottomWall = mesh.specialSets[\"MinJ_VertexSet\"]\n",
    "\n",
    "gwPressureBC = uw.conditions.DirichletCondition( variable        = gwPressureField, \n",
    "                                               indexSetsPerDof = ( topWall+ bottomWall    ) )"
   ]
  },
  {
   "cell_type": "markdown",
   "metadata": {},
   "source": [
    "*Choose the pressure set at the lower wall and set an initially linear pressure field which is consistent with the BCs*"
   ]
  },
  {
   "cell_type": "code",
   "execution_count": 4,
   "metadata": {},
   "outputs": [],
   "source": [
    "#Groundwater pressure boundary condition on the bottom wall\n",
    "#    this value is relative to gravity\n",
    "maxgwpressure = 0.5\n",
    "\n",
    "yCoordFn  = uw.function.input()[1]\n",
    "initialFn = -1. * yCoordFn * maxgwpressure\n",
    "\n",
    "gwPressureField.data[:] = initialFn.evaluate(mesh)"
   ]
  },
  {
   "cell_type": "markdown",
   "metadata": {},
   "source": [
    "*Set up swarm*\n",
    "\n",
    "**Imporant Note:** The swarm is used for setting the $\\kappa$ for a cell. As a result of our choice of a linear shape-function (Q1), there is a single constant pressure gradient solved for each cell. If we were to use particles with strongly contrasting $\\kappa$ in one cell, the actual solution should involve a strong variation in pressure gradient which cannot be reproduced by the constant pressure gradient solved. It is therefore recommended that only one particle is used per cell. For the same reason, velocity should be calculated inside the cell, rather than on the mesh. Our swarm is used both for setting $\\kappa$ and calculating the velocity.\n"
   ]
  },
  {
   "cell_type": "code",
   "execution_count": 5,
   "metadata": {},
   "outputs": [],
   "source": [
    "swarm         = uw.swarm.Swarm( mesh=mesh )\n",
    "swarmLayout = uw.swarm.layouts.PerCellGaussLayout(swarm=swarm,gaussPointCount=1)\n",
    "swarm.populate_using_layout(swarmLayout)"
   ]
  },
  {
   "cell_type": "markdown",
   "metadata": {},
   "source": [
    "Set up swarm variables: material ID and velocity. The velocity variable is where the velocity solution can be stored."
   ]
  },
  {
   "cell_type": "code",
   "execution_count": 6,
   "metadata": {},
   "outputs": [],
   "source": [
    "materialIndex     = swarm.add_variable( dataType=\"int\",    count=1 )\n",
    "materialVelocity  = swarm.add_variable( dataType=\"double\",    count=2 )\n",
    "\n",
    "materialPorous        = 0\n",
    "materialImpermeable   = 1"
   ]
  },
  {
   "cell_type": "markdown",
   "metadata": {},
   "source": [
    "Set up a horizontal interface between the two materials"
   ]
  },
  {
   "cell_type": "code",
   "execution_count": 7,
   "metadata": {},
   "outputs": [],
   "source": [
    "xCoordFn = uw.function.input()[0]\n",
    "yCoordFn = uw.function.input()[1]\n",
    "\n",
    "interfaceY = -0.25\n",
    "\n",
    "conditions = [ (yCoordFn > interfaceY, materialPorous),\n",
    "               ( True , materialImpermeable )]\n",
    "\n",
    "materialfn = uw.function.branching.conditional( conditions )\n",
    "materialIndex.data[:]  = materialfn.evaluate(swarm)"
   ]
  },
  {
   "cell_type": "markdown",
   "metadata": {},
   "source": [
    "Assign a different $\\kappa$ to each material. The upper layer in this case is much more permeable than the lower."
   ]
  },
  {
   "cell_type": "code",
   "execution_count": 8,
   "metadata": {},
   "outputs": [],
   "source": [
    "Ka = 1.\n",
    "Kb = 1e-3\n",
    "\n",
    "hydraulicDiffusivityMap = { materialPorous : Ka, \n",
    "                 materialImpermeable : Kb}\n",
    "hydraulicDiffusivityMapFn = uw.function.branching.map( fn_key = materialIndex, mapping = hydraulicDiffusivityMap )"
   ]
  },
  {
   "cell_type": "markdown",
   "metadata": {},
   "source": [
    "Let's check that the $\\kappa$ asigned to each particle looks correct:"
   ]
  },
  {
   "cell_type": "code",
   "execution_count": 9,
   "metadata": {
    "scrolled": false
   },
   "outputs": [
    {
     "data": {
      "text/html": [
       "<img src='data:image/png;base64,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'>"
      ],
      "text/plain": [
       "<IPython.core.display.HTML object>"
      ]
     },
     "metadata": {},
     "output_type": "display_data"
    }
   ],
   "source": [
    "figMaterial = glucifer.Figure( figsize=(800,400), title=\"Hydraulic Diffusivity\" )\n",
    "figMaterial.append( glucifer.objects.Points(swarm, hydraulicDiffusivityMapFn, pointSize=5.0) )\n",
    "\n",
    "figMaterial.append( glucifer.objects.Mesh(mesh))\n",
    "figMaterial.show()"
   ]
  },
  {
   "cell_type": "markdown",
   "metadata": {},
   "source": [
    "*Setup the dary flow (groundwater) equation*"
   ]
  },
  {
   "cell_type": "code",
   "execution_count": 10,
   "metadata": {},
   "outputs": [],
   "source": [
    "g = uw.function.misc.constant((0.,-1.))\n",
    "\n",
    "\n",
    "gwadvDiff = uw.systems.SteadyStateDarcyFlow(velocityField=velocityField,\n",
    "        pressureField = gwPressureField, fn_diffusivity = hydraulicDiffusivityMapFn,\n",
    "        conditions=[gwPressureBC],fn_bodyforce=g, \n",
    "        voronoi_swarm=swarm,swarmVarVelocity=materialVelocity)\n",
    "gwsolver = uw.systems.Solver(gwadvDiff)"
   ]
  },
  {
   "cell_type": "code",
   "execution_count": 11,
   "metadata": {},
   "outputs": [],
   "source": [
    "gwsolver.solve()"
   ]
  },
  {
   "cell_type": "markdown",
   "metadata": {},
   "source": [
    "*Visualise the groundwater solution, by plotting it for $x=-1$ (left wall).*\n",
    "\n",
    "This model is simple enough that there is an equivalent 1D analytic, which we can use as a benchmark. Out of interest, let's also plot what the solution would look like without the gravity term.\n",
    "\n",
    "The grey lines are the horizontal element edges. Note that an resolution has been chosen so that the interface boundary is accurately resolved."
   ]
  },
  {
   "cell_type": "code",
   "execution_count": 12,
   "metadata": {
    "scrolled": true
   },
   "outputs": [
    {
     "data": {
      "image/png": "[encoded data removed]",
      "text/plain": [
       "<Figure size 432x288 with 1 Axes>"
      ]
     },
     "metadata": {
      "needs_background": "light"
     },
     "output_type": "display_data"
    }
   ],
   "source": [
    "arrY = numpy.linspace(0,-1,100)\n",
    "x = -1.\n",
    "arrP = gwPressureField.evaluate_global(numpy.array(list(zip(numpy.ones(100)*x,arrY))))\n",
    "\n",
    "La = -1. * interfaceY\n",
    "Lb = 1. + interfaceY\n",
    "dP = maxgwpressure\n",
    "arrYl = numpy.concatenate((numpy.linspace(0,-La,3),numpy.linspace(-La,-1,3)))\n",
    "\n",
    "S = 1\n",
    "Pa = (dP/Lb - S + Ka/Kb * S) / (1./Lb + Ka/Kb/La)\n",
    "withG = numpy.piecewise(arrY, [arrY >= -La, arrY < -La],\n",
    "                        [lambda arrY:-Pa*arrY/La, lambda arrY:Pa + (dP-Pa)*(-arrY-La)/Lb])\n",
    "\n",
    "S = 0\n",
    "Pa = (dP/Lb - S + Ka/Kb * S) / (1./Lb + Ka/Kb/La)\n",
    "withoutG = numpy.piecewise(arrY, [arrY >= -La, arrY < -La], \n",
    "                           [lambda arrY:-Pa*arrY/La, lambda arrY:Pa + (dP-Pa)*(-arrY-La)/Lb])\n",
    "\n",
    "# make some plots\n",
    "if uw.mpi.rank == 0:\n",
    "    plt.ylim(-1,0.)\n",
    "    plt.xlim(-1e-2,1)\n",
    "    \n",
    "    # plot numerical result\n",
    "    plt.plot(arrP,arrY,c='red',label='Numerical', linewidth=3)\n",
    "    \n",
    "    # plot grey lines to represent the resolution\n",
    "    for meshY in numpy.linspace(-1,0,resY+1):\n",
    "        plt.plot(numpy.linspace(0,1,2),numpy.ones(2)*meshY,c=\"grey\",alpha=0.3)\n",
    "\n",
    "    label = 'Analytical'\n",
    "    line = \"--\"\n",
    "    plt.plot(withG, arrY,line,label=label)\n",
    "    \n",
    "    label = \"Analytical\\n(No gravity)\"\n",
    "    line = \"-.\"\n",
    "    plt.plot(withoutG, arrY,line,label=label) \n",
    "\n",
    "    plt.xlabel('Pressure')\n",
    "    plt.ylabel('Depth')\n",
    "    plt.legend()\n",
    "        \n",
    "    plt.savefig('PressureSolution.png')"
   ]
  },
  {
   "cell_type": "code",
   "execution_count": 13,
   "metadata": {},
   "outputs": [],
   "source": [
    "# This cell is for testing purposes. Check the analytic, with gravity solution\n",
    "import numpy as np\n",
    "\n",
    "if uw.mpi.rank==0:\n",
    "    if not numpy.allclose(arrP, withG.reshape(-1,1), rtol=1e-2):\n",
    "        raise RuntimeError(\"Solution is outside expected tolerance\")"
   ]
  },
  {
   "cell_type": "markdown",
   "metadata": {},
   "source": [
    "The velocity solution was found on the swarm, so let's visualise the swarm variable where it is kept. The vertical component of the velocity vector field is visualised. Note the colourbar - the solution is relatively constant, as it should be for flow conservation."
   ]
  },
  {
   "cell_type": "code",
   "execution_count": 14,
   "metadata": {
    "scrolled": false
   },
   "outputs": [
    {
     "data": {
      "text/html": [
       "<img src='data:image/png;base64,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'>"
      ],
      "text/plain": [
       "<IPython.core.display.HTML object>"
      ]
     },
     "metadata": {},
     "output_type": "display_data"
    }
   ],
   "source": [
    "figMaterial = glucifer.Figure( figsize=(800,400), title=\"Velocity Calculated on Swarm\" )\n",
    "figMaterial.append( glucifer.objects.Points(swarm, materialVelocity[1], pointSize=5.0) )\n",
    "figMaterial.append( glucifer.objects.Mesh(mesh))\n",
    "figMaterial.show()"
   ]
  },
  {
   "cell_type": "markdown",
   "metadata": {},
   "source": [
    "Plot the same velocity field as vectors, over the pressure field solution."
   ]
  },
  {
   "cell_type": "code",
   "execution_count": 15,
   "metadata": {},
   "outputs": [
    {
     "data": {
      "text/html": [
       "<img src='data:image/png;base64,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'>"
      ],
      "text/plain": [
       "<IPython.core.display.HTML object>"
      ]
     },
     "metadata": {},
     "output_type": "display_data"
    }
   ],
   "source": [
    "figMaterial = glucifer.Figure( figsize=(800,400),title=\"Ground-Water Pressure Field and Velocity Vectors\" )\n",
    "figMaterial.append(glucifer.objects.Surface(mesh,gwPressureField,onMesh=True))\n",
    "scale = 0.03\n",
    "figMaterial.append(glucifer.objects.VectorArrows(mesh,velocityField,scaling=50,arrowHead=0.3))\n",
    "figMaterial.show()"
   ]
  },
  {
   "cell_type": "markdown",
   "metadata": {},
   "source": [
    "We can also compare the velocity calculated on the swarm to an analytical solution."
   ]
  },
  {
   "cell_type": "code",
   "execution_count": 16,
   "metadata": {},
   "outputs": [
    {
     "data": {
      "image/png": "[encoded data removed]",
      "text/plain": [
       "<Figure size 432x288 with 1 Axes>"
      ]
     },
     "metadata": {
      "needs_background": "light"
     },
     "output_type": "display_data"
    }
   ],
   "source": [
    "x = -1.\n",
    "n = 30\n",
    "arrYsample = numpy.linspace(-1+(1./resY),0.,resY)\n",
    "arrY = numpy.linspace(-1,0.,n)\n",
    "\n",
    "arrP = numpy.array(velocityField[1].evaluate_global(numpy.array(list(zip(numpy.ones(len(arrYsample))*x,arrYsample)))))\n",
    "\n",
    "if uw.mpi.rank == 0:\n",
    "    plt.clf()\n",
    "    plt.scatter(arrP,arrYsample,lw=0,alpha=0.5,label=\"Numerical\")\n",
    "\n",
    "    S = 1.\n",
    "    La = -1. * interfaceY\n",
    "    Lb = 1. + interfaceY\n",
    "    dP = maxgwpressure\n",
    "    midPressure = (dP/Lb - S + Ka/Kb * S) / (1./Lb + Ka/Kb/La)\n",
    "\n",
    "    arrVel = numpy.zeros(len(arrY))\n",
    "\n",
    "    for i in range(len(arrY)):\n",
    "        if arrY[i] > interfaceY:\n",
    "            arrVel[i] = (-midPressure / -La - 1.) * Ka\n",
    "        else:\n",
    "            arrVel[i] = (-(dP - midPressure)/-Lb - 1.) * Kb\n",
    "\n",
    "    plt.plot( (arrVel) ,arrY,c=\"black\",label=\"Analytical\")\n",
    "\n",
    "    plt.ylim(-1,0.)\n",
    "    avAnVel = numpy.average(arrVel)\n",
    "    plt.xlim(-0.25*avAnVel + avAnVel,0.25*avAnVel+avAnVel)\n",
    "    plt.ticklabel_format(style='sci', axis='x', scilimits=(0,0))\n",
    "    plt.legend()\n",
    "    plt.xlabel('Vertical Velocity')\n",
    "    plt.ylabel('Depth')\n",
    "\n",
    "    plt.savefig(\"VelocitySolution.pdf\")"
   ]
  }
 ],
 "metadata": {
  "kernelspec": {
   "display_name": "Python 3",
   "language": "python",
   "name": "python3"
  },
  "language_info": {
   "codemirror_mode": {
    "name": "ipython",
    "version": 3
   },
   "file_extension": ".py",
   "mimetype": "text/x-python",
   "name": "python",
   "nbconvert_exporter": "python",
   "pygments_lexer": "ipython3",
   "version": "3.5.3"
  }
 },
 "nbformat": 4,
 "nbformat_minor": 1
}
