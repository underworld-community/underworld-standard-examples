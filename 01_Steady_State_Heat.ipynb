{
 "cells": [
  {
   "cell_type": "markdown",
   "metadata": {},
   "source": [
    "Steady state heat equation\n",
    "======\n",
    "\n",
    "This notebook will setup and solve the steady state heat equation:\n",
    "\n",
    "\\\\[\n",
    "\\nabla(k\\nabla)T = h\n",
    "\\\\]\n",
    "\n",
    "where $k$ is the diffusivity, T the temperature field and $h$ the source term.\n",
    "This model is solved in a rectangular domain with Dirichlet boundary conditions on the top and bottom walls.\n",
    "\n",
    "**Keywords:** initial conditions, boundary conditions, heat equation\n",
    "\n",
    "\n",
    "![title](./images/01_temperature.png)\n"
   ]
  },
  {
   "cell_type": "code",
   "execution_count": 1,
   "metadata": {},
   "outputs": [],
   "source": [
    "import underworld as uw\n",
    "import glucifer"
   ]
  },
  {
   "cell_type": "code",
   "execution_count": 2,
   "metadata": {},
   "outputs": [],
   "source": [
    "# Set some python variables for model parameters\n",
    "boxHeight = 1.0\n",
    "boxLength = 2.0\n",
    "resx = 16\n",
    "resy = 8\n",
    "\n",
    "# create mesh and variables\n",
    "mesh = uw.mesh.FeMesh_Cartesian( elementType = (\"Q1/dQ0\"), \n",
    "                                 elementRes  = (resx, resy), \n",
    "                                 minCoord    = (0., 0.), \n",
    "                                 maxCoord    = (boxLength, boxHeight))"
   ]
  },
  {
   "cell_type": "code",
   "execution_count": 3,
   "metadata": {},
   "outputs": [],
   "source": [
    "# Create mesh variables for the temperature field & initialise. \n",
    "temperatureField = mesh.add_variable( nodeDofCount=1 )\n",
    "temperatureField.data[:] = 0."
   ]
  },
  {
   "cell_type": "code",
   "execution_count": 4,
   "metadata": {},
   "outputs": [],
   "source": [
    "# Using the `specialSets` of the mesh we designate the vertices to \n",
    "# build the `DirichletCondition` object - Refer to the `Systems` section \n",
    "# of the user guide.\n",
    "botWalls = mesh.specialSets[\"Bottom_VertexSet\"]\n",
    "topWalls = mesh.specialSets[   \"Top_VertexSet\"]\n",
    "bcWalls = botWalls + topWalls\n",
    "tempBC = uw.conditions.DirichletCondition( variable=temperatureField, indexSetsPerDof=(bcWalls,) )"
   ]
  },
  {
   "cell_type": "code",
   "execution_count": 5,
   "metadata": {},
   "outputs": [],
   "source": [
    "# set bottom wall temperature bc\n",
    "temperatureField.data[botWalls] = 1.0\n",
    "# set top wall temperature bc\n",
    "temperatureField.data[topWalls] = 0.0"
   ]
  },
  {
   "cell_type": "code",
   "execution_count": 6,
   "metadata": {
    "scrolled": false
   },
   "outputs": [
    {
     "data": {
      "text/html": [
       "<img src='data:image/png;base64,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'>"
      ],
      "text/plain": [
       "<IPython.core.display.HTML object>"
      ]
     },
     "metadata": {},
     "output_type": "display_data"
    }
   ],
   "source": [
    "# gLucifer visualisation of temperature field & mesh\n",
    "fig = glucifer.Figure(figsize=(800,400))\n",
    "fig.append( glucifer.objects.Mesh(mesh) )\n",
    "fig.append( glucifer.objects.Surface( mesh, temperatureField, colours=\"blue white red\" ) )\n",
    "fig.show()"
   ]
  },
  {
   "cell_type": "markdown",
   "metadata": {},
   "source": [
    "Heat Equation System setup & solve\n",
    "-----\n",
    "\n",
    "Temperature field, diffusivity and boundary conditions are passed to the SteadyStateHeat system function."
   ]
  },
  {
   "cell_type": "code",
   "execution_count": 7,
   "metadata": {},
   "outputs": [],
   "source": [
    "heatequation = uw.systems.SteadyStateHeat(temperatureField = temperatureField, \n",
    "                                            fn_diffusivity = 1.0, \n",
    "                                                conditions = tempBC)\n",
    "\n",
    "# get the default heat equation solver\n",
    "heatsolver = uw.systems.Solver(heatequation)\n",
    "# solve\n",
    "heatsolver.solve()"
   ]
  },
  {
   "cell_type": "code",
   "execution_count": 8,
   "metadata": {},
   "outputs": [
    {
     "data": {
      "text/html": [
       "<img src='data:image/png;base64,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'>"
      ],
      "text/plain": [
       "<IPython.core.display.HTML object>"
      ]
     },
     "metadata": {},
     "output_type": "display_data"
    }
   ],
   "source": [
    "# gLucifer visualisation of temperature field & mesh\n",
    "fig.show()"
   ]
  },
  {
   "cell_type": "code",
   "execution_count": 9,
   "metadata": {},
   "outputs": [],
   "source": [
    "# As a test, ensure we reproduce the required average temperature\n",
    "import numpy as np\n",
    "tottemp = uw.utils.Integral(temperatureField, mesh)\n",
    "avtemp = tottemp.evaluate()[0] / (boxHeight*boxLength)\n",
    "if not np.isclose(avtemp,0.5):\n",
    "    raise RuntimeError(\"Incorrect average temperature produced by model. \")"
   ]
  }
 ],
 "metadata": {
  "kernelspec": {
   "display_name": "Python 3",
   "language": "python",
   "name": "python3"
  },
  "language_info": {
   "codemirror_mode": {
    "name": "ipython",
    "version": 3
   },
   "file_extension": ".py",
   "mimetype": "text/x-python",
   "name": "python",
   "nbconvert_exporter": "python",
   "pygments_lexer": "ipython3",
   "version": "3.5.3"
  }
 },
 "nbformat": 4,
 "nbformat_minor": 1
}
